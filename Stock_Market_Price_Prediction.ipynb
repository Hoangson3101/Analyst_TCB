{
  "cells": [
    {
      "cell_type": "code",
      "execution_count": null,
      "metadata": {
        "colab": {},
        "colab_type": "code",
        "id": "mRQoS1qVvSKW"
      },
      "outputs": [],
      "source": [
        "import pandas as pd\n",
        "import numpy as np"
      ]
    },
    {
      "cell_type": "code",
      "execution_count": null,
      "metadata": {
        "colab": {
          "base_uri": "https://localhost:8080/",
          "height": 343
        },
        "colab_type": "code",
        "id": "U22jkPurvSKh",
        "outputId": "2165ce83-f3a1-4770-8ea0-d2356aa05244"
      },
      "outputs": [],
      "source": [
        "df = pd.read_csv(\"D:/predict/data_techcom.csv\")\n",
        "df.head(10)"
      ]
    },
    {
      "cell_type": "code",
      "execution_count": null,
      "metadata": {
        "colab": {},
        "colab_type": "code",
        "id": "SYChicqhvSKp"
      },
      "outputs": [],
      "source": [
        "df.dropna(axis=0, inplace=True)"
      ]
    },
    {
      "cell_type": "code",
      "execution_count": null,
      "metadata": {
        "colab": {
          "base_uri": "https://localhost:8080/",
          "height": 151
        },
        "colab_type": "code",
        "id": "aOmbi43gvSKw",
        "outputId": "182aacaf-9980-44a1-8952-c66f207bddba"
      },
      "outputs": [],
      "source": [
        "df.isnull().sum()"
      ]
    },
    {
      "cell_type": "code",
      "execution_count": null,
      "metadata": {
        "colab": {
          "base_uri": "https://localhost:8080/",
          "height": 50
        },
        "colab_type": "code",
        "id": "o_0wSjAtvSK3",
        "outputId": "06ed854d-4987-41fe-f773-a70f7356d877"
      },
      "outputs": [],
      "source": [
        "print('Shape of the data:')\n",
        "print(df.shape)"
      ]
    },
    {
      "cell_type": "code",
      "execution_count": null,
      "metadata": {
        "colab": {},
        "colab_type": "code",
        "id": "Yv5U38zxvSK-"
      },
      "outputs": [],
      "source": [
        "df['Date'] = pd.to_datetime(df.Date,format='%Y-%m-%d')\n",
        "df.index = df['Date']"
      ]
    },
    {
      "cell_type": "code",
      "execution_count": null,
      "metadata": {
        "colab": {},
        "colab_type": "code",
        "id": "BeGhGdNYvSLG"
      },
      "outputs": [],
      "source": [
        "data = df.sort_index(ascending=True, axis=0)\n",
        "new_data = pd.DataFrame(index=range(0,len(df)),columns=['Date', 'Close'])"
      ]
    },
    {
      "cell_type": "code",
      "execution_count": null,
      "metadata": {
        "colab": {},
        "colab_type": "code",
        "id": "NOq1R-v9vSLO"
      },
      "outputs": [],
      "source": [
        "for i in range(0,len(data)):\n",
        "     new_data['Date'][i] = data['Date'][i]\n",
        "     new_data['Close'][i] = data['Close'][i]"
      ]
    },
    {
      "cell_type": "code",
      "execution_count": null,
      "metadata": {
        "colab": {},
        "colab_type": "code",
        "id": "sTmJ-EwDvSLU"
      },
      "outputs": [],
      "source": [
        "train = new_data[:987]\n",
        "valid = new_data[987:]"
      ]
    },
    {
      "cell_type": "code",
      "execution_count": null,
      "metadata": {
        "colab": {
          "base_uri": "https://localhost:8080/",
          "height": 50
        },
        "colab_type": "code",
        "id": "SGlCpwomvSLi",
        "outputId": "2bb4abcb-431c-457e-ea14-38c347016bd5"
      },
      "outputs": [],
      "source": [
        "print('Shape of training set:')\n",
        "print(train.shape)"
      ]
    },
    {
      "cell_type": "code",
      "execution_count": null,
      "metadata": {
        "colab": {
          "base_uri": "https://localhost:8080/",
          "height": 50
        },
        "colab_type": "code",
        "id": "0p1Hm144vSLq",
        "outputId": "0e7526b5-c702-4588-d9b6-15fe0602b859"
      },
      "outputs": [],
      "source": [
        "print('Shape of validation set:')\n",
        "print(valid.shape)"
      ]
    },
    {
      "cell_type": "code",
      "execution_count": null,
      "metadata": {
        "colab": {},
        "colab_type": "code",
        "id": "GDEpkG9XvSLw"
      },
      "outputs": [],
      "source": [
        "preds = []\n",
        "for i in range(0,valid.shape[0]):\n",
        "    a = train['Close'][len(train)-248+i:].sum() + sum(preds)\n",
        "    b = a/248\n",
        "    preds.append(b)"
      ]
    },
    {
      "cell_type": "code",
      "execution_count": null,
      "metadata": {
        "colab": {
          "base_uri": "https://localhost:8080/",
          "height": 67
        },
        "colab_type": "code",
        "id": "1KL9V3UGvSL2",
        "outputId": "cfee0eee-d532-4ac7-9192-90600a3e132e"
      },
      "outputs": [],
      "source": [
        "rms=np.sqrt(np.mean(np.power((np.array(valid['Close'])-preds),2)))\n",
        "print('\\n RMSE value on validation set:')\n",
        "print(rms)"
      ]
    },
    {
      "cell_type": "code",
      "execution_count": null,
      "metadata": {
        "colab": {
          "base_uri": "https://localhost:8080/",
          "height": 500
        },
        "colab_type": "code",
        "id": "-Id9FD2FvSL9",
        "outputId": "99e90477-865a-4c90-8df5-4a4e62b0ad96"
      },
      "outputs": [],
      "source": [
        "#setting index as date\n",
        "import matplotlib.pyplot as plt\n",
        "df['Date'] = pd.to_datetime(df.Date,format='%Y-%m-%d')\n",
        "df.index = df['Date']\n",
        "\n",
        "#plot\n",
        "plt.figure(figsize=(16,8))\n",
        "plt.plot(df['Close'], label='Close Price history')"
      ]
    },
    {
      "cell_type": "code",
      "execution_count": null,
      "metadata": {
        "colab": {
          "base_uri": "https://localhost:8080/",
          "height": 718
        },
        "colab_type": "code",
        "id": "jZVRb5UlvSME",
        "outputId": "fcf6c989-d4a3-4269-f578-964a546cb59f"
      },
      "outputs": [],
      "source": [
        "#plot\n",
        "plt.figure(figsize=(16,8))\n",
        "valid['Predictions'] = 0\n",
        "valid['Predictions'] = preds\n",
        "plt.plot(train['Close'])\n",
        "plt.plot(valid[['Close', 'Predictions']])"
      ]
    },
    {
      "cell_type": "code",
      "execution_count": null,
      "metadata": {
        "colab": {},
        "colab_type": "code",
        "id": "tVMHHpx0vSMK"
      },
      "outputs": [],
      "source": [
        "#setting index as date values\n",
        "df['Date'] = pd.to_datetime(df.Date,format='%Y-%m-%d')\n",
        "df.index = df['Date']\n",
        "\n",
        "#sorting\n",
        "data = df.sort_index(ascending=True, axis=0)\n",
        "\n",
        "#creating a separate dataset\n",
        "new_data = pd.DataFrame(index=range(0,len(df)),columns=['Date', 'Close'])\n",
        "\n",
        "for i in range(0,len(data)):\n",
        "    new_data['Date'][i] = data['Date'][i]\n",
        "    new_data['Close'][i] = data['Close'][i]\n"
      ]
    },
    {
      "cell_type": "code",
      "execution_count": null,
      "metadata": {
        "colab": {
          "base_uri": "https://localhost:8080/",
          "height": 742
        },
        "colab_type": "code",
        "id": "9tejroWIvSMQ",
        "outputId": "d74fbba3-dc9e-4c5a-c04c-cdc025682bd2"
      },
      "outputs": [],
      "source": [
        "pip install fastai"
      ]
    },
    {
      "cell_type": "code",
      "execution_count": null,
      "metadata": {
        "colab": {},
        "colab_type": "code",
        "id": "WH8tSV4FvSMX"
      },
      "outputs": [],
      "source": [
        "from fastai.tabular import *"
      ]
    },
    {
      "cell_type": "code",
      "execution_count": null,
      "metadata": {
        "colab": {},
        "colab_type": "code",
        "id": "08ZlkJlovSMh"
      },
      "outputs": [],
      "source": [
        "import pandas as pd\n",
        "\n",
        "# Đọc dữ liệu từ tập tin CSV vào DataFrame\n",
        "new_data = pd.read_csv(\"D:/predict/data_techcom.csv\")\n",
        "\n",
        "# Chuyển cột 'Date' sang kiểu datetime\n",
        "new_data['Date'] = pd.to_datetime(new_data['Date'])\n",
        "\n",
        "# Thêm các thuộc tính ngày tháng vào DataFrame\n",
        "new_data['Year'] = new_data['Date'].dt.year\n",
        "new_data['Month'] = new_data['Date'].dt.month\n",
        "new_data['Day'] = new_data['Date'].dt.day\n",
        "new_data['Dayofweek'] = new_data['Date'].dt.dayofweek\n",
        "new_data['Dayofyear'] = new_data['Date'].dt.dayofyear\n",
        "new_data['Is_month_end'] = new_data['Date'].dt.is_month_end\n",
        "new_data['Is_month_start'] = new_data['Date'].dt.is_month_start\n",
        "new_data['Is_quarter_end'] = new_data['Date'].dt.is_quarter_end\n",
        "new_data['Is_quarter_start'] = new_data['Date'].dt.is_quarter_start\n",
        "new_data['Is_year_end'] = new_data['Date'].dt.is_year_end\n",
        "new_data['Is_year_start'] = new_data['Date'].dt.is_year_start\n",
        "\n"
      ]
    },
    {
      "cell_type": "code",
      "execution_count": null,
      "metadata": {
        "colab": {
          "base_uri": "https://localhost:8080/",
          "height": 185
        },
        "colab_type": "code",
        "id": "yEO0xPeivSMm",
        "outputId": "8d036d2c-4d3f-4105-98c2-0edaf7e0bb45"
      },
      "outputs": [],
      "source": [
        "new_data['mon_fri'] = 0\n",
        "for i in range(0,len(new_data)):\n",
        "    if (new_data['Dayofweek'][i] == 0 or new_data['Dayofweek'][i] == 4):\n",
        "        new_data['mon_fri'][i] = 1\n",
        "    else:\n",
        "        new_data['mon_fri'][i] = 0"
      ]
    },
    {
      "cell_type": "markdown",
      "metadata": {
        "colab_type": "text",
        "id": "DLQIWT0GvSMt"
      },
      "source": [
        "## IMPLEMENTATION OF LINEAR REGRESSION"
      ]
    },
    {
      "cell_type": "code",
      "execution_count": null,
      "metadata": {},
      "outputs": [],
      "source": [
        "# Loại bỏ các cột kiểu datetime từ x_train\n",
        "x_train = x_train.select_dtypes(exclude=['datetime64'])\n",
        "\n",
        "# Loại bỏ các cột tương ứng từ x_valid (nếu cần)\n",
        "x_valid = x_valid[x_train.columns]\n"
      ]
    },
    {
      "cell_type": "code",
      "execution_count": null,
      "metadata": {
        "colab": {
          "base_uri": "https://localhost:8080/",
          "height": 34
        },
        "colab_type": "code",
        "id": "KJfQNO4dvSMu",
        "outputId": "54db3b3f-6b60-4ce4-c232-83e9d34d9fb7"
      },
      "outputs": [],
      "source": [
        "train = new_data[:987]\n",
        "valid = new_data[987:]\n",
        "\n",
        "x_train = train.drop('Close', axis=1)\n",
        "x_train['Date'] = (x_train['Date'] - x_train['Date'].min()) / np.timedelta64(1, 's')  # Chuyển đổi cột kiểu datetime thành timestamp\n",
        "y_train = train['Close']\n",
        "\n",
        "x_valid = valid.drop('Close', axis=1)\n",
        "x_valid['Date'] = (x_valid['Date'] - x_valid['Date'].min()) / np.timedelta64(1, 's')  # Chuyển đổi cột kiểu datetime thành timestamp\n",
        "y_valid = valid['Close']\n",
        "\n",
        "#implement linear regression\n",
        "from sklearn.linear_model import LinearRegression\n",
        "model = LinearRegression()\n",
        "model.fit(x_train, y_train)\n"
      ]
    },
    {
      "cell_type": "code",
      "execution_count": null,
      "metadata": {
        "colab": {
          "base_uri": "https://localhost:8080/",
          "height": 34
        },
        "colab_type": "code",
        "id": "YvAfaNfNvSM3",
        "outputId": "ae0cc8ea-2c06-4c01-c7e2-9bf0279bc310"
      },
      "outputs": [],
      "source": [
        "#make predictions and find the rmse\n",
        "preds = model.predict(x_valid)\n",
        "rms=np.sqrt(np.mean(np.power((np.array(y_valid)-np.array(preds)),2)))\n",
        "rms"
      ]
    },
    {
      "cell_type": "code",
      "execution_count": null,
      "metadata": {
        "colab": {
          "base_uri": "https://localhost:8080/",
          "height": 718
        },
        "colab_type": "code",
        "id": "D_CLgaimvSM9",
        "outputId": "6698d960-8fdb-4c05-d2b4-7b84755adc84"
      },
      "outputs": [],
      "source": [
        "#plot\n",
        "valid['Predictions'] = 0\n",
        "valid['Predictions'] = preds\n",
        "\n",
        "valid.index = new_data[987:].index\n",
        "train.index = new_data[:987].index\n",
        "plt.figure(figsize=(16,8))\n",
        "plt.plot(train['Close'])\n",
        "plt.plot(valid[['Close', 'Predictions']])"
      ]
    },
    {
      "cell_type": "markdown",
      "metadata": {
        "colab_type": "text",
        "id": "HgSvBJ0O3hn9"
      },
      "source": [
        "## IMPLEMENTATION OF LOGISTIC REGRESSION"
      ]
    },
    {
      "cell_type": "code",
      "execution_count": null,
      "metadata": {
        "colab": {},
        "colab_type": "code",
        "id": "77PtFl8Iz0YM"
      },
      "outputs": [],
      "source": [
        "#importing libraries\n",
        "\n",
        "from sklearn.linear_model import LogisticRegression\n",
        "from sklearn.preprocessing import MinMaxScaler\n",
        "scaler = MinMaxScaler(feature_range=(0, 1))"
      ]
    },
    {
      "cell_type": "code",
      "execution_count": null,
      "metadata": {
        "colab": {
          "base_uri": "https://localhost:8080/",
          "height": 0
        },
        "colab_type": "code",
        "id": "UZznacJlz0R2",
        "outputId": "1d1f1696-3e01-4f28-c26f-ebf46cc8435c"
      },
      "outputs": [],
      "source": [
        "#scaling data\n",
        "x_train_scaled = scaler.fit_transform(x_train)\n",
        "x_train = pd.DataFrame(x_train_scaled)\n",
        "x_valid_scaled = scaler.fit_transform(x_valid)\n",
        "x_valid = pd.DataFrame(x_valid_scaled)\n",
        "\n",
        "#fit the model and make predictions\n",
        "model.fit(x_train,y_train.ravel())\n",
        "preds = model.predict(x_valid)\n",
        "print(preds)\n",
        "print('Accuracy of trained model',model.score(x_train,y_train))"
      ]
    },
    {
      "cell_type": "code",
      "execution_count": null,
      "metadata": {
        "colab": {
          "base_uri": "https://localhost:8080/",
          "height": 0
        },
        "colab_type": "code",
        "id": "xlLqsrG8z0PI",
        "outputId": "24cbec79-273a-4e26-ff04-c7eb40bdba7b"
      },
      "outputs": [],
      "source": [
        "rms=np.sqrt(np.mean(np.power((np.array(y_valid)-np.array(preds)),2)))\n",
        "rms"
      ]
    },
    {
      "cell_type": "code",
      "execution_count": null,
      "metadata": {
        "colab": {
          "base_uri": "https://localhost:8080/",
          "height": 0
        },
        "colab_type": "code",
        "id": "gu4NJQWyzz-N",
        "outputId": "797263d0-74d1-4faa-dc8e-4de5ae19826e"
      },
      "outputs": [],
      "source": [
        "plt.figure(figsize=(16,8))\n",
        "valid['Predictions'] = 0\n",
        "valid['Predictions'] = preds\n",
        "plt.plot(valid[['Close', 'Predictions']])\n",
        "plt.plot(train['Close'])"
      ]
    },
    {
      "cell_type": "markdown",
      "metadata": {
        "colab_type": "text",
        "id": "pj4lf38vvSND"
      },
      "source": [
        "## IMPLEMENTATION OF KNN(K-Nearest-Neighbors)"
      ]
    },
    {
      "cell_type": "code",
      "execution_count": null,
      "metadata": {
        "colab": {},
        "colab_type": "code",
        "id": "pPDXy19SvSNF"
      },
      "outputs": [],
      "source": [
        "#importing libraries\n",
        "from sklearn import neighbors\n",
        "from sklearn.model_selection import GridSearchCV\n",
        "from sklearn.preprocessing import MinMaxScaler\n",
        "scaler = MinMaxScaler(feature_range=(0, 1))"
      ]
    },
    {
      "cell_type": "code",
      "execution_count": null,
      "metadata": {
        "colab": {
          "base_uri": "https://localhost:8080/",
          "height": 0
        },
        "colab_type": "code",
        "id": "Obz35mn3vSNS",
        "outputId": "658909ce-450f-4ac1-da8b-80e7e0a04b22"
      },
      "outputs": [],
      "source": [
        "#scaling data\n",
        "x_train_scaled = scaler.fit_transform(x_train)\n",
        "x_train = pd.DataFrame(x_train_scaled)\n",
        "x_valid_scaled = scaler.fit_transform(x_valid)\n",
        "x_valid = pd.DataFrame(x_valid_scaled)\n",
        "\n",
        "#using gridsearch to find the best parameter\n",
        "params = {'n_neighbors':[2,3,4,5,6,7,8,9]}\n",
        "knn = neighbors.KNeighborsRegressor()\n",
        "model = GridSearchCV(knn, params, cv=5)\n",
        "\n",
        "#fit the model and make predictions\n",
        "model.fit(x_train,y_train)\n",
        "preds = model.predict(x_valid)\n",
        "print(preds)\n",
        "print('Accuracy of trained model',model.score(x_train,y_train))"
      ]
    },
    {
      "cell_type": "code",
      "execution_count": null,
      "metadata": {
        "colab": {
          "base_uri": "https://localhost:8080/",
          "height": 0
        },
        "colab_type": "code",
        "id": "WqPYPH9VvSNZ",
        "outputId": "cb30744b-da13-4d66-8c31-2ad95bf17550"
      },
      "outputs": [],
      "source": [
        "rms=np.sqrt(np.mean(np.power((np.array(y_valid)-np.array(preds)),2)))\n",
        "rms"
      ]
    },
    {
      "cell_type": "code",
      "execution_count": null,
      "metadata": {
        "colab": {
          "base_uri": "https://localhost:8080/",
          "height": 0
        },
        "colab_type": "code",
        "id": "qkqL79PzvSNf",
        "outputId": "fd1a9eec-6cc2-4279-ced9-01d03b836398"
      },
      "outputs": [],
      "source": [
        "plt.figure(figsize=(16,8))\n",
        "valid['Predictions'] = 0\n",
        "valid['Predictions'] = preds\n",
        "plt.plot(valid[['Close', 'Predictions']])\n",
        "plt.plot(train['Close'])"
      ]
    },
    {
      "cell_type": "markdown",
      "metadata": {
        "colab_type": "text",
        "id": "cK4nQCCvvSNq"
      },
      "source": [
        "##  IMPLEMENTATION OF LSTM ( Long Term-Short Memory)\n"
      ]
    },
    {
      "cell_type": "code",
      "execution_count": null,
      "metadata": {
        "colab": {
          "base_uri": "https://localhost:8080/",
          "height": 67
        },
        "colab_type": "code",
        "id": "29PLpBirvSNs",
        "outputId": "665d8ab2-a126-4379-ba5a-0ab3af218013"
      },
      "outputs": [],
      "source": [
        "#importing required libraries\n",
        "from sklearn.preprocessing import MinMaxScaler\n",
        "from keras.models import Sequential\n",
        "from keras.layers import Dense, Dropout, LSTM\n",
        "\n",
        "#creating dataframe\n",
        "data = df.sort_index(ascending=True, axis=0)\n",
        "new_data = pd.DataFrame(index=range(0,len(df)),columns=['Date', 'Close'])\n",
        "for i in range(0,len(data)):\n",
        "    new_data['Date'][i] = data['Date'][i]\n",
        "    new_data['Close'][i] = data['Close'][i]\n",
        "\n",
        "#setting index\n",
        "new_data.index = new_data.Date\n",
        "new_data.drop('Date', axis=1, inplace=True)\n",
        "\n",
        "#creating train and test sets\n",
        "dataset = new_data.values\n",
        "\n",
        "train = dataset[0:987,:]\n",
        "valid = dataset[987:,:]\n",
        "\n",
        "#converting dataset into x_train and y_train\n",
        "scaler = MinMaxScaler(feature_range=(0, 1))\n",
        "scaled_data = scaler.fit_transform(dataset)\n",
        "\n",
        "x_train, y_train = [], []\n",
        "for i in range(60,len(train)):\n",
        "    x_train.append(scaled_data[i-60:i,0])\n",
        "    y_train.append(scaled_data[i,0])\n",
        "x_train, y_train = np.array(x_train), np.array(y_train)\n",
        "\n",
        "x_train = np.reshape(x_train, (x_train.shape[0],x_train.shape[1],1))\n",
        "\n",
        "# create and fit the LSTM network\n",
        "model = Sequential()\n",
        "model.add(LSTM(units=50, return_sequences=True, input_shape=(x_train.shape[1],1)))\n",
        "model.add(LSTM(units=50))\n",
        "model.add(Dense(1))\n",
        "\n",
        "model.compile(loss='mean_squared_error', optimizer='adam')\n",
        "model.fit(x_train, y_train, epochs=1, batch_size=1, verbose=2)\n",
        "\n",
        "#predicting 246 values, using past 60 from the train data\n",
        "inputs = new_data[len(new_data) - len(valid) - 60:].values\n",
        "inputs = inputs.reshape(-1,1)\n",
        "inputs  = scaler.transform(inputs)\n",
        "\n",
        "X_test = []\n",
        "for i in range(60,inputs.shape[0]):\n",
        "    X_test.append(inputs[i-60:i,0])\n",
        "X_test = np.array(X_test)\n",
        "\n",
        "X_test = np.reshape(X_test, (X_test.shape[0],X_test.shape[1],1))\n",
        "closing_price = model.predict(X_test)\n",
        "closing_price = scaler.inverse_transform(closing_price)"
      ]
    },
    {
      "cell_type": "code",
      "execution_count": null,
      "metadata": {
        "colab": {
          "base_uri": "https://localhost:8080/",
          "height": 34
        },
        "colab_type": "code",
        "id": "dc5oM8XEvSNx",
        "outputId": "d3bad2f7-179d-4b6a-c489-aab30072fef5"
      },
      "outputs": [],
      "source": [
        "rms=np.sqrt(np.mean(np.power((valid-closing_price),2)))\n",
        "rms"
      ]
    },
    {
      "cell_type": "code",
      "execution_count": null,
      "metadata": {
        "colab": {
          "base_uri": "https://localhost:8080/",
          "height": 618
        },
        "colab_type": "code",
        "id": "vDCPrpkTvSN2",
        "outputId": "7301e305-a1e8-48b2-c016-f6987d974304"
      },
      "outputs": [],
      "source": [
        "plt.figure(figsize=(16,8))\n",
        "train = new_data[:987]\n",
        "valid = new_data[987:]\n",
        "valid['Predictions'] = closing_price\n",
        "plt.plot(train['Close'])\n",
        "plt.plot(valid[['Close','Predictions']])"
      ]
    },
    {
      "cell_type": "markdown",
      "metadata": {
        "colab_type": "text",
        "id": "_X07lw_K9irG"
      },
      "source": [
        "## IMPLEMENTATION OF AUTO-ARIMA"
      ]
    },
    {
      "cell_type": "code",
      "execution_count": null,
      "metadata": {
        "colab": {
          "base_uri": "https://localhost:8080/",
          "height": 218
        },
        "colab_type": "code",
        "id": "y6pH6ALDzG1j",
        "outputId": "c988cd9d-26b9-4fbc-ef2b-a0aa2f3d43e5"
      },
      "outputs": [],
      "source": [
        "pip install pyramid-arima"
      ]
    },
    {
      "cell_type": "code",
      "execution_count": null,
      "metadata": {
        "colab": {
          "base_uri": "https://localhost:8080/",
          "height": 554
        },
        "colab_type": "code",
        "id": "TKdQhP1-yeRc",
        "outputId": "e2fe7089-2817-4863-aa18-a254e2c332c4"
      },
      "outputs": [],
      "source": [
        "from pmdarima.arima import auto_arima\n",
        "\n",
        "data = df.sort_index(ascending=True, axis=0)\n",
        "\n",
        "train = data[:987]\n",
        "valid = data[987:]\n",
        "\n",
        "training = train['Close']\n",
        "validation = valid['Close']\n",
        "\n",
        "model = auto_arima(training, start_p=1, start_q=1,max_p=3, max_q=3, m=12,start_P=0, seasonal=True,d=1, D=1, trace=True,error_action='ignore',suppress_warnings=True)\n",
        "model.fit(training)\n",
        "\n",
        "forecast = model.predict(n_periods=240)\n",
        "forecast = pd.DataFrame(forecast,index = valid.index,columns=['Prediction'])"
      ]
    },
    {
      "cell_type": "code",
      "execution_count": null,
      "metadata": {
        "colab": {
          "base_uri": "https://localhost:8080/",
          "height": 34
        },
        "colab_type": "code",
        "id": "OfUb_5tW9EY8",
        "outputId": "0fdde798-7c1d-4a0e-8ff6-853e0ae60fb2"
      },
      "outputs": [],
      "source": [
        "rms=np.sqrt(np.mean(np.power((np.array(valid['Close'])-np.array(forecast['Prediction'])),2)))\n",
        "rms"
      ]
    },
    {
      "cell_type": "code",
      "execution_count": null,
      "metadata": {
        "colab": {
          "base_uri": "https://localhost:8080/",
          "height": 500
        },
        "colab_type": "code",
        "id": "-ALMACvL9En_",
        "outputId": "1cf43f7e-d74c-465a-bc3d-5a4074496dde"
      },
      "outputs": [],
      "source": [
        "plt.figure(figsize=(16,8))\n",
        "plt.plot(train['Close'])\n",
        "plt.plot(valid['Close'])\n",
        "plt.plot(forecast['Prediction'])"
      ]
    }
  ],
  "metadata": {
    "colab": {
      "name": "test.ipynb",
      "provenance": [],
      "toc_visible": true
    },
    "kernelspec": {
      "display_name": "Python 3",
      "language": "python",
      "name": "python3"
    },
    "language_info": {
      "codemirror_mode": {
        "name": "ipython",
        "version": 3
      },
      "file_extension": ".py",
      "mimetype": "text/x-python",
      "name": "python",
      "nbconvert_exporter": "python",
      "pygments_lexer": "ipython3",
      "version": "3.12.2"
    }
  },
  "nbformat": 4,
  "nbformat_minor": 0
}
